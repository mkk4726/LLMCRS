{
 "cells": [
  {
   "cell_type": "markdown",
   "metadata": {},
   "source": [
    "# 정리\n",
    "\n",
    "- Sub-task Detection\n",
    "- Model Matching\n",
    "- Sub-task Execution\n",
    "- Response Generation"
   ]
  },
  {
   "cell_type": "code",
   "execution_count": 20,
   "metadata": {},
   "outputs": [],
   "source": [
    "import os\n",
    "from langchain_openai import ChatOpenAI\n",
    "from langchain.prompts import PromptTemplate\n",
    "\n",
    "openai_api_key = os.getenv('OPENAI_API_KEY')"
   ]
  },
  {
   "cell_type": "markdown",
   "metadata": {},
   "source": [
    "# Sub-task Detection\n",
    "유저와 대화하면서 어떤 task를 진행해야하는지 판단하고 대화를 이어나가는 역할"
   ]
  },
  {
   "cell_type": "code",
   "execution_count": 13,
   "metadata": {},
   "outputs": [],
   "source": [
    "sub_task_list = [\"User Preference Eliction\", \"Recommendation\", \"Explanation\", \"Item Information Search\"]\n",
    "sub_task_schema = {\n",
    "    \"User Preference Eliction\": {\n",
    "        \"explanation\": \"Task to elict user preference.\",\n",
    "        \"arguments\": [\"category\", \"dialogue context\"]\n",
    "    },\n",
    "    \"Recommendation\": {\n",
    "        \"explanation\": \"Task to recommend item.\",\n",
    "        \"arguments\": [\"category\", \"dialogue context\"]\n",
    "    },\n",
    "    \"Explanation\": {\n",
    "        \"explanation\": \"Task to explain reasons why recommend the item.\",\n",
    "        \"arguments\": [\"category\", \"dialogue context\"]\n",
    "    },\n",
    "    \"Item Information Search\": {\n",
    "        \"explanation\": \"Task to search information of the item\",\n",
    "        \"arguments\": [\"category\", \"dialogue context\"]\n",
    "    }\n",
    "}"
   ]
  },
  {
   "cell_type": "code",
   "execution_count": 18,
   "metadata": {},
   "outputs": [],
   "source": [
    "openai_api_key"
   ]
  },
  {
   "cell_type": "code",
   "execution_count": 14,
   "metadata": {},
   "outputs": [
    {
     "ename": "ValidationError",
     "evalue": "1 validation error for ChatOpenAI\n__root__\n  Did not find openai_api_key, please add an environment variable `OPENAI_API_KEY` which contains it, or pass `openai_api_key` as a named parameter. (type=value_error)",
     "output_type": "error",
     "traceback": [
      "\u001b[1;31m---------------------------------------------------------------------------\u001b[0m",
      "\u001b[1;31mValidationError\u001b[0m                           Traceback (most recent call last)",
      "Cell \u001b[1;32mIn[14], line 1\u001b[0m\n\u001b[1;32m----> 1\u001b[0m llm \u001b[38;5;241m=\u001b[39m \u001b[43mChatOpenAI\u001b[49m\u001b[43m(\u001b[49m\u001b[43mopenai_api_key\u001b[49m\u001b[38;5;241;43m=\u001b[39;49m\u001b[43mopenai_api_key\u001b[49m\u001b[43m,\u001b[49m\u001b[43m \u001b[49m\n\u001b[0;32m      2\u001b[0m \u001b[43m                 \u001b[49m\u001b[43mmodel\u001b[49m\u001b[38;5;241;43m=\u001b[39;49m\u001b[38;5;124;43m'\u001b[39;49m\u001b[38;5;124;43mgpt-4o-mini\u001b[39;49m\u001b[38;5;124;43m'\u001b[39;49m\u001b[43m,\u001b[49m\n\u001b[0;32m      3\u001b[0m \u001b[43m                 \u001b[49m\u001b[43mtemperature\u001b[49m\u001b[38;5;241;43m=\u001b[39;49m\u001b[38;5;241;43m0\u001b[39;49m\u001b[43m,\u001b[49m\n\u001b[0;32m      4\u001b[0m \u001b[43m                 \u001b[49m\u001b[43mmax_tokens\u001b[49m\u001b[38;5;241;43m=\u001b[39;49m\u001b[38;5;241;43m2048\u001b[39;49m\u001b[43m)\u001b[49m\n\u001b[0;32m      6\u001b[0m template \u001b[38;5;241m=\u001b[39m \u001b[38;5;124m\"\"\"\u001b[39m\u001b[38;5;124mThe AI assistant should analyze the user query to detect which sub-task should be selected. \u001b[39m\n\u001b[0;32m      7\u001b[0m \u001b[38;5;124mThe subtasks include: \u001b[39m\u001b[38;5;124m{\u001b[39m\u001b[38;5;124mSub-Task List}. \u001b[39m\n\u001b[0;32m      8\u001b[0m \u001b[38;5;124mThe selected sub-task need to represent by its corresponding sub-task schema.\u001b[39m\n\u001b[1;32m   (...)\u001b[0m\n\u001b[0;32m     14\u001b[0m \u001b[38;5;124mselected task:\u001b[39m\n\u001b[0;32m     15\u001b[0m \u001b[38;5;124m\"\"\"\u001b[39m\n\u001b[0;32m     17\u001b[0m prompt \u001b[38;5;241m=\u001b[39m PromptTemplate(template\u001b[38;5;241m=\u001b[39mtemplate, input_variables\u001b[38;5;241m=\u001b[39m[\u001b[38;5;124m'\u001b[39m\u001b[38;5;124mSub-Task List\u001b[39m\u001b[38;5;124m'\u001b[39m, \u001b[38;5;124m'\u001b[39m\u001b[38;5;124mSub-Task Schema\u001b[39m\u001b[38;5;124m'\u001b[39m, \u001b[38;5;124m'\u001b[39m\u001b[38;5;124muser_query\u001b[39m\u001b[38;5;124m'\u001b[39m])\n",
      "File \u001b[1;32mc:\\Users\\Hi\\miniconda3\\envs\\bnvitt-chatbot\\lib\\site-packages\\pydantic\\v1\\main.py:341\u001b[0m, in \u001b[0;36mBaseModel.__init__\u001b[1;34m(__pydantic_self__, **data)\u001b[0m\n\u001b[0;32m    339\u001b[0m values, fields_set, validation_error \u001b[38;5;241m=\u001b[39m validate_model(__pydantic_self__\u001b[38;5;241m.\u001b[39m\u001b[38;5;18m__class__\u001b[39m, data)\n\u001b[0;32m    340\u001b[0m \u001b[38;5;28;01mif\u001b[39;00m validation_error:\n\u001b[1;32m--> 341\u001b[0m     \u001b[38;5;28;01mraise\u001b[39;00m validation_error\n\u001b[0;32m    342\u001b[0m \u001b[38;5;28;01mtry\u001b[39;00m:\n\u001b[0;32m    343\u001b[0m     object_setattr(__pydantic_self__, \u001b[38;5;124m'\u001b[39m\u001b[38;5;124m__dict__\u001b[39m\u001b[38;5;124m'\u001b[39m, values)\n",
      "\u001b[1;31mValidationError\u001b[0m: 1 validation error for ChatOpenAI\n__root__\n  Did not find openai_api_key, please add an environment variable `OPENAI_API_KEY` which contains it, or pass `openai_api_key` as a named parameter. (type=value_error)"
     ]
    }
   ],
   "source": [
    "llm = ChatOpenAI(api_key=openai_api_key, \n",
    "                 model='gpt-4o-mini',\n",
    "                 temperature=0,\n",
    "                 max_tokens=2048)\n",
    "\n",
    "template = \"\"\"The AI assistant should analyze the user query to detect which sub-task should be selected. \n",
    "The subtasks include: {Sub-Task List}. \n",
    "The selected sub-task need to represent by its corresponding sub-task schema.\n",
    "The sub-task schema is {Sub-Task Schema}. \n",
    "The sub-task MUST be selected from the above list and represented by the schema.\n",
    "\n",
    "user query: {user_query}\n",
    "selected task:\n",
    "\"\"\"\n",
    "\n",
    "prompt = PromptTemplate(template=template, input_variables=['Sub-Task List', 'Sub-Task Schema', 'user_query'])\n",
    "\n",
    "chain = prompt | llm\n",
    "chain.invoke({\"Sub-Task List\":\"/\".join(sub_task_list), \n",
    "              \"Sub-Task Schema\":sub_task_schema,\n",
    "              \"user_query\": \"I like romance movie\"}\n",
    "             )"
   ]
  },
  {
   "cell_type": "code",
   "execution_count": null,
   "metadata": {},
   "outputs": [],
   "source": []
  },
  {
   "cell_type": "code",
   "execution_count": null,
   "metadata": {},
   "outputs": [],
   "source": []
  },
  {
   "cell_type": "code",
   "execution_count": null,
   "metadata": {},
   "outputs": [],
   "source": []
  },
  {
   "cell_type": "code",
   "execution_count": null,
   "metadata": {},
   "outputs": [],
   "source": []
  },
  {
   "cell_type": "code",
   "execution_count": 26,
   "metadata": {},
   "outputs": [],
   "source": [
    "template = \"\"\"The AI assistant should analyze the dialogue context to detect which sub-task should be selected. \n",
    "The subtasks include: { Sub-Task List }. \n",
    "The selected sub-task need to represent by its corresponding sub-task schema.\n",
    "The sub-task schema is { Sub-Task Schema }. \n",
    "There are some cases for your reference: { Demonstrations }.\n",
    "The dialogue context is { Dialogue Context }. \n",
    "From this dialogue context, which sub-task should be selected?\n",
    "The sub-task MUST be selected from the above list and represented by the schema\"\"\"\n",
    "\n",
    "prompt = PromptTemplate(template=template, input_variables=['Sub-Task List', 'Sub-Task Schema', 'Demonstrations', 'Dialogue Context'])"
   ]
  },
  {
   "cell_type": "code",
   "execution_count": 24,
   "metadata": {},
   "outputs": [
    {
     "data": {
      "text/plain": [
       "PromptTemplate(input_variables=[' Demonstrations ', ' Dialogue Context ', ' Sub-Task List ', ' Sub-Task Schema '], template='The AI assistant should analyze the dialogue context to detect which sub-task should be selected. \\nThe subtasks include: { Sub-Task List }. \\nThe selected sub-task need to represent by its corresponding sub-task schema.\\nThe sub-task schema is { Sub-Task Schema }. \\nThere are some cases for your reference: { Demonstrations }.\\nThe dialogue context is { Dialogue Context }. \\nFrom this dialogue context, which sub-task should be selected?\\nThe sub-task MUST be selected from the above list and represented by the schema')"
      ]
     },
     "execution_count": 24,
     "metadata": {},
     "output_type": "execute_result"
    }
   ],
   "source": [
    "prompt"
   ]
  },
  {
   "cell_type": "code",
   "execution_count": null,
   "metadata": {},
   "outputs": [],
   "source": []
  }
 ],
 "metadata": {
  "kernelspec": {
   "display_name": "recsys",
   "language": "python",
   "name": "python3"
  },
  "language_info": {
   "codemirror_mode": {
    "name": "ipython",
    "version": 3
   },
   "file_extension": ".py",
   "mimetype": "text/x-python",
   "name": "python",
   "nbconvert_exporter": "python",
   "pygments_lexer": "ipython3",
   "version": "3.10.8"
  }
 },
 "nbformat": 4,
 "nbformat_minor": 2
}
