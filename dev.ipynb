{
 "cells": [
  {
   "cell_type": "markdown",
   "metadata": {},
   "source": [
    "# 정리\n",
    "\n",
    "- Sub-task Detection\n",
    "- Model Matching\n",
    "- Sub-task Execution\n",
    "- Response Generation"
   ]
  },
  {
   "cell_type": "code",
   "execution_count": 3,
   "metadata": {},
   "outputs": [],
   "source": [
    "from dotenv import load_dotenv\n",
    "import os\n",
    "from langchain_openai import ChatOpenAI\n",
    "from langchain.prompts import PromptTemplate\n",
    "\n",
    "load_dotenv()\n",
    "\n",
    "openai_api_key = os.getenv('OPENAI_API_KEY')"
   ]
  },
  {
   "cell_type": "markdown",
   "metadata": {},
   "source": [
    "# Sub-task Detection\n",
    "유저와 대화하면서 어떤 task를 진행해야하는지 판단하고 대화를 이어나가는 역할"
   ]
  },
  {
   "cell_type": "code",
   "execution_count": 4,
   "metadata": {},
   "outputs": [],
   "source": [
    "sub_task_list = [\"User Preference Eliction\", \"Recommendation\", \"Explanation\", \"Item Information Search\"]\n",
    "sub_task_schema = {\n",
    "    \"User Preference Eliction\": {\n",
    "        \"explanation\": \"Task to elict user preference.\",\n",
    "        \"arguments\": [\"category\", \"dialogue context\"]\n",
    "    },\n",
    "    \"Recommendation\": {\n",
    "        \"explanation\": \"Task to recommend item.\",\n",
    "        \"arguments\": [\"category\", \"dialogue context\"]\n",
    "    },\n",
    "    \"Explanation\": {\n",
    "        \"explanation\": \"Task to explain reasons why recommend the item.\",\n",
    "        \"arguments\": [\"category\", \"dialogue context\"]\n",
    "    },\n",
    "    \"Item Information Search\": {\n",
    "        \"explanation\": \"Task to search information of the item\",\n",
    "        \"arguments\": [\"category\", \"dialogue context\"]\n",
    "    }\n",
    "}"
   ]
  },
  {
   "cell_type": "code",
   "execution_count": 7,
   "metadata": {},
   "outputs": [],
   "source": [
    "llm = ChatOpenAI(api_key=openai_api_key, \n",
    "                 model='gpt-4o-mini',\n",
    "                 temperature=0,\n",
    "                 max_tokens=2048)\n",
    "\n",
    "template = \"\"\"The AI assistant should analyze the user query to detect which sub-task should be selected. \n",
    "The subtasks include: {Sub-Task List}. \n",
    "The selected sub-task need to represent by its corresponding sub-task schema.\n",
    "The sub-task schema is {Sub-Task Schema}. \n",
    "The sub-task MUST be selected from the above list and represented by the schema.\n",
    "\n",
    "user query: {user_query}\n",
    "selected task:\n",
    "\"\"\"\n",
    "\n",
    "prompt = PromptTemplate(template=template, input_variables=['Sub-Task List', 'Sub-Task Schema', 'user_query'])\n",
    "\n",
    "chain = prompt | llm"
   ]
  },
  {
   "cell_type": "code",
   "execution_count": 8,
   "metadata": {},
   "outputs": [
    {
     "data": {
      "text/plain": [
       "AIMessage(content=\"{'User Preference Eliction': {'explanation': 'Task to elict user preference.', 'arguments': ['movie', 'I like romance movie']}}\", response_metadata={'token_usage': {'completion_tokens': 31, 'prompt_tokens': 206, 'total_tokens': 237}, 'model_name': 'gpt-4o-mini', 'system_fingerprint': 'fp_48196bc67a', 'finish_reason': 'stop', 'logprobs': None}, id='run-89f714f4-b240-4fa7-9d3f-bc1c5e35d5e9-0')"
      ]
     },
     "execution_count": 8,
     "metadata": {},
     "output_type": "execute_result"
    }
   ],
   "source": [
    "user_query = \"I like romance movie\"\n",
    "\n",
    "chain.invoke({\"Sub-Task List\":\"/\".join(sub_task_list), \n",
    "              \"Sub-Task Schema\":sub_task_schema,\n",
    "              \"user_query\": user_query}\n",
    "             )"
   ]
  },
  {
   "cell_type": "code",
   "execution_count": 9,
   "metadata": {},
   "outputs": [
    {
     "data": {
      "text/plain": [
       "AIMessage(content=\"{'Recommendation': {'explanation': 'Task to recommend item.', 'arguments': ['movie', 'dialogue context']}}\", response_metadata={'token_usage': {'completion_tokens': 25, 'prompt_tokens': 205, 'total_tokens': 230}, 'model_name': 'gpt-4o-mini', 'system_fingerprint': 'fp_48196bc67a', 'finish_reason': 'stop', 'logprobs': None}, id='run-9bb5990b-12fb-4409-8f79-2a2a0fc23a13-0')"
      ]
     },
     "execution_count": 9,
     "metadata": {},
     "output_type": "execute_result"
    }
   ],
   "source": [
    "user_query = \"Recommend some movie\"\n",
    "\n",
    "chain.invoke({\"Sub-Task List\":\"/\".join(sub_task_list), \n",
    "              \"Sub-Task Schema\":sub_task_schema,\n",
    "              \"user_query\": user_query}\n",
    "             )"
   ]
  },
  {
   "cell_type": "code",
   "execution_count": 10,
   "metadata": {},
   "outputs": [
    {
     "data": {
      "text/plain": [
       "AIMessage(content=\"{'Explanation': {'explanation': 'Task to explain reasons why recommend the item.', 'arguments': ['movie', 'dialogue context']}}\", response_metadata={'token_usage': {'completion_tokens': 29, 'prompt_tokens': 208, 'total_tokens': 237}, 'model_name': 'gpt-4o-mini', 'system_fingerprint': 'fp_48196bc67a', 'finish_reason': 'stop', 'logprobs': None}, id='run-475e5f25-8539-4bc7-9d0f-5961503a3734-0')"
      ]
     },
     "execution_count": 10,
     "metadata": {},
     "output_type": "execute_result"
    }
   ],
   "source": [
    "user_query = \"Why do you recommend that movie?\"\n",
    "\n",
    "chain.invoke({\"Sub-Task List\":\"/\".join(sub_task_list), \n",
    "              \"Sub-Task Schema\":sub_task_schema,\n",
    "              \"user_query\": user_query}\n",
    "             )"
   ]
  },
  {
   "cell_type": "code",
   "execution_count": 12,
   "metadata": {},
   "outputs": [
    {
     "data": {
      "text/plain": [
       "AIMessage(content=\"{'Item Information Search': {'explanation': 'Task to search information of the item', 'arguments': ['movie', 'dialogue context']}}\", response_metadata={'token_usage': {'completion_tokens': 30, 'prompt_tokens': 207, 'total_tokens': 237}, 'model_name': 'gpt-4o-mini', 'system_fingerprint': 'fp_48196bc67a', 'finish_reason': 'stop', 'logprobs': None}, id='run-94ec7050-abd6-4412-8b9d-3b83a47c5b01-0')"
      ]
     },
     "execution_count": 12,
     "metadata": {},
     "output_type": "execute_result"
    }
   ],
   "source": [
    "user_query = \"When was the movie made?\"\n",
    "\n",
    "chain.invoke({\"Sub-Task List\":\"/\".join(sub_task_list), \n",
    "              \"Sub-Task Schema\":sub_task_schema,\n",
    "              \"user_query\": user_query}\n",
    "             )"
   ]
  },
  {
   "cell_type": "code",
   "execution_count": null,
   "metadata": {},
   "outputs": [],
   "source": []
  },
  {
   "cell_type": "code",
   "execution_count": null,
   "metadata": {},
   "outputs": [],
   "source": []
  },
  {
   "cell_type": "code",
   "execution_count": null,
   "metadata": {},
   "outputs": [],
   "source": []
  },
  {
   "cell_type": "code",
   "execution_count": 26,
   "metadata": {},
   "outputs": [],
   "source": [
    "template = \"\"\"The AI assistant should analyze the dialogue context to detect which sub-task should be selected. \n",
    "The subtasks include: { Sub-Task List }. \n",
    "The selected sub-task need to represent by its corresponding sub-task schema.\n",
    "The sub-task schema is { Sub-Task Schema }. \n",
    "There are some cases for your reference: { Demonstrations }.\n",
    "The dialogue context is { Dialogue Context }. \n",
    "From this dialogue context, which sub-task should be selected?\n",
    "The sub-task MUST be selected from the above list and represented by the schema\"\"\"\n",
    "\n",
    "prompt = PromptTemplate(template=template, input_variables=['Sub-Task List', 'Sub-Task Schema', 'Demonstrations', 'Dialogue Context'])"
   ]
  },
  {
   "cell_type": "code",
   "execution_count": null,
   "metadata": {},
   "outputs": [],
   "source": []
  }
 ],
 "metadata": {
  "kernelspec": {
   "display_name": "recsys",
   "language": "python",
   "name": "python3"
  },
  "language_info": {
   "codemirror_mode": {
    "name": "ipython",
    "version": 3
   },
   "file_extension": ".py",
   "mimetype": "text/x-python",
   "name": "python",
   "nbconvert_exporter": "python",
   "pygments_lexer": "ipython3",
   "version": "3.10.8"
  }
 },
 "nbformat": 4,
 "nbformat_minor": 2
}
